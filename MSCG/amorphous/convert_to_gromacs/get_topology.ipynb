{
 "cells": [
  {
   "cell_type": "code",
   "execution_count": 1,
   "metadata": {},
   "outputs": [],
   "source": [
    "from mscg import Topology, Trajectory\n",
    "import numpy as np"
   ]
  },
  {
   "cell_type": "code",
   "execution_count": 2,
   "metadata": {},
   "outputs": [
    {
     "data": {
      "text/plain": [
       "3000"
      ]
     },
     "execution_count": 2,
     "metadata": {},
     "output_type": "execute_result"
    }
   ],
   "source": [
    "top = Topology.read_file('cg.top')\n",
    "top.system_name = 'glycerol'\n",
    "\n",
    "CG_traj = Trajectory('CG.lammpstrj', fmt='lammpstrj')\n",
    "CG_traj.read_frame()\n",
    "nmol = CG_traj.x.shape[0]\n",
    "nmol"
   ]
  },
  {
   "cell_type": "code",
   "execution_count": 9,
   "metadata": {},
   "outputs": [],
   "source": [
    "molecule_ids = []\n",
    "\n",
    "for i in range(1,nmol):\n",
    "    molecule_ids += [i,i,i]\n",
    "    \n",
    "C = 12.0\n",
    "H = 1.0\n",
    "N = 14.0\n",
    "O = 16.0\n",
    "Br = 79.9\n",
    "# in same order as cg.top cgtypes\n",
    "CG_mass = [\n",
    "#     2*C + 3*H, # I9A\n",
    "#     4*C + 6*H, # I8A\n",
    "#     4*C + 8*H, # I7A\n",
    "#     4*C + 8*H, # I6A\n",
    "#     3*C + 6*H, # I5A\n",
    "#     2*C + 3*H + 1*N, # I3A\n",
    "#     2*C + 2*H, # I2A\n",
    "#     1*C + 2*H + 1*N, # I1A\n",
    "#     4*C + 8*H, # I4\n",
    "#     1*C + 2*H + 1*N, # I1B\n",
    "#     2*C + 2*H, # I2B\n",
    "#     2*C + 3*H + 1*N, # I3B\n",
    "#     3*C + 6*H, # I5B\n",
    "#     4*C + 8*H, # I6B\n",
    "#     4*C + 8*H, # I7B\n",
    "#     4*C + 6*H, # I8B\n",
    "#     2*C + 3*H, # I9B\n",
    "    1*C + 3*H + 1*O, # C\n",
    "    1*C + 2*H + 1*O, # C1\n",
    "    1*C + 3*H + 1*O, # C2\n",
    "#     Br, # BR\n",
    "          ]\n",
    "\n",
    "top.save('lammps',masses=CG_mass,molecule=molecule_ids,box=np.vstack([np.zeros(3), CG_traj.box]).T,x=CG_traj.x)"
   ]
  },
  {
   "cell_type": "code",
   "execution_count": null,
   "metadata": {},
   "outputs": [],
   "source": []
  }
 ],
 "metadata": {
  "kernelspec": {
   "display_name": "Python 3 (ipykernel)",
   "language": "python",
   "name": "python3"
  },
  "language_info": {
   "codemirror_mode": {
    "name": "ipython",
    "version": 3
   },
   "file_extension": ".py",
   "mimetype": "text/x-python",
   "name": "python",
   "nbconvert_exporter": "python",
   "pygments_lexer": "ipython3",
   "version": "3.8.10"
  }
 },
 "nbformat": 4,
 "nbformat_minor": 4
}
